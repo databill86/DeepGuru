{
 "cells": [
  {
   "cell_type": "code",
   "execution_count": 6,
   "metadata": {
    "ExecuteTime": {
     "end_time": "2019-02-05T13:59:35.107781Z",
     "start_time": "2019-02-05T13:59:35.094437Z"
    }
   },
   "outputs": [
    {
     "name": "stdout",
     "output_type": "stream",
     "text": [
      "The autoreload extension is already loaded. To reload it, use:\n",
      "  %reload_ext autoreload\n"
     ]
    }
   ],
   "source": [
    "%load_ext autoreload\n",
    "%autoreload 2\n",
    "from fastai import *\n",
    "from fastai.text import * \n",
    "\n",
    "PATH = Path('./data/')\n",
    "INPUT_DATA = PATH/'perf_db.csv'"
   ]
  },
  {
   "cell_type": "markdown",
   "metadata": {},
   "source": [
    "# Loading data and choosing hyper parameters"
   ]
  },
  {
   "cell_type": "code",
   "execution_count": 9,
   "metadata": {
    "ExecuteTime": {
     "end_time": "2019-02-05T14:00:09.576567Z",
     "start_time": "2019-02-05T14:00:09.551952Z"
    }
   },
   "outputs": [],
   "source": [
    "df = pd.read_csv(INPUT_DATA, index_col=0)\n",
    "df = pd.DataFrame(df.text.unique())\n",
    "len(df)"
   ]
  },
  {
   "cell_type": "code",
   "execution_count": 12,
   "metadata": {
    "ExecuteTime": {
     "end_time": "2019-02-05T14:02:04.019422Z",
     "start_time": "2019-02-05T14:02:03.267816Z"
    }
   },
   "outputs": [],
   "source": [
    "data_lm = (TextList.from_df(df, PATH, processor=[TokenizeProcessor(), NumericalizeProcessor(max_vocab=60000, min_freq=1)])\n",
    "            .random_split_by_pct(0.2)\n",
    "            .label_for_lm()           \n",
    "            .databunch(bs=64))\n"
   ]
  },
  {
   "cell_type": "code",
   "execution_count": 13,
   "metadata": {
    "ExecuteTime": {
     "end_time": "2019-02-05T14:02:05.937743Z",
     "start_time": "2019-02-05T14:02:05.892057Z"
    }
   },
   "outputs": [],
   "source": [
    "data_lm.save('data-lm-eval-zen')"
   ]
  },
  {
   "cell_type": "markdown",
   "metadata": {},
   "source": [
    "The next function is used to quickly test fine tuning of some hyper parameters."
   ]
  },
  {
   "cell_type": "code",
   "execution_count": 15,
   "metadata": {
    "ExecuteTime": {
     "end_time": "2019-02-05T14:03:15.184301Z",
     "start_time": "2019-02-05T14:03:15.171221Z"
    }
   },
   "outputs": [],
   "source": [
    "def test_hyper_param(lm_str, bs, lrf, epf, lru, epu, drop):\n",
    "    lm = TextLMDataBunch.load(PATH, lm_str, bs=bs)\n",
    "    learn = language_model_learner(lm, pretrained_model=URLs.WT103_1, drop_mult=drop)\n",
    "\n",
    "    learn.fit_one_cycle(epf, lrf)\n",
    "    learn.unfreeze()\n",
    "    learn.fit_one_cycle(epu, lru,moms=(0.8,0.7))\n",
    "\n",
    "    learn.recorder.plot_losses()\n",
    "    \n",
    "    return learn"
   ]
  },
  {
   "cell_type": "code",
   "execution_count": 16,
   "metadata": {
    "ExecuteTime": {
     "end_time": "2019-02-05T14:03:35.333398Z",
     "start_time": "2019-02-05T14:03:25.502994Z"
    }
   },
   "outputs": [
    {
     "name": "stdout",
     "output_type": "stream",
     "text": [
      "LR Finder is complete, type {learner_name}.recorder.plot() to see the graph.\n"
     ]
    },
    {
     "data": {
      "image/png": "[encoded data removed]",
      "text/plain": [
       "<Figure size 432x288 with 1 Axes>"
      ]
     },
     "metadata": {},
     "output_type": "display_data"
    }
   ],
   "source": [
    "learn = language_model_learner(data_lm, pretrained_model=URLs.WT103_1, drop_mult=0.5)\n",
    "learn.lr_find()\n",
    "learn.recorder.plot()"
   ]
  },
  {
   "cell_type": "markdown",
   "metadata": {},
   "source": [
    "The parameter I have choosen are the results of tests I have done and are very depend on the dataset. On another dataset, good hyper parameters could be very different."
   ]
  },
  {
   "cell_type": "code",
   "execution_count": 36,
   "metadata": {
    "ExecuteTime": {
     "end_time": "2019-02-05T14:18:30.917502Z",
     "start_time": "2019-02-05T14:17:55.610524Z"
    }
   },
   "outputs": [
    {
     "data": {
      "text/html": [
       "Total time: 00:03 <p><table style='width:300px; margin-bottom:10px'>\n",
       "  <tr>\n",
       "    <th>epoch</th>\n",
       "    <th>train_loss</th>\n",
       "    <th>valid_loss</th>\n",
       "    <th>accuracy</th>\n",
       "  </tr>\n",
       "  <tr>\n",
       "    <th>1</th>\n",
       "    <th>5.273194</th>\n",
       "    <th>4.524457</th>\n",
       "    <th>0.265126</th>\n",
       "  </tr>\n",
       "  <tr>\n",
       "    <th>2</th>\n",
       "    <th>4.873284</th>\n",
       "    <th>4.091826</th>\n",
       "    <th>0.282961</th>\n",
       "  </tr>\n",
       "  <tr>\n",
       "    <th>3</th>\n",
       "    <th>4.594750</th>\n",
       "    <th>4.005418</th>\n",
       "    <th>0.284060</th>\n",
       "  </tr>\n",
       "</table>\n"
      ],
      "text/plain": [
       "<IPython.core.display.HTML object>"
      ]
     },
     "metadata": {},
     "output_type": "display_data"
    },
    {
     "data": {
      "text/html": [
       "Total time: 00:31 <p><table style='width:300px; margin-bottom:10px'>\n",
       "  <tr>\n",
       "    <th>epoch</th>\n",
       "    <th>train_loss</th>\n",
       "    <th>valid_loss</th>\n",
       "    <th>accuracy</th>\n",
       "  </tr>\n",
       "  <tr>\n",
       "    <th>1</th>\n",
       "    <th>4.123355</th>\n",
       "    <th>3.804598</th>\n",
       "    <th>0.287765</th>\n",
       "  </tr>\n",
       "  <tr>\n",
       "    <th>2</th>\n",
       "    <th>4.007611</th>\n",
       "    <th>3.645185</th>\n",
       "    <th>0.321101</th>\n",
       "  </tr>\n",
       "  <tr>\n",
       "    <th>3</th>\n",
       "    <th>3.915649</th>\n",
       "    <th>3.576758</th>\n",
       "    <th>0.330640</th>\n",
       "  </tr>\n",
       "  <tr>\n",
       "    <th>4</th>\n",
       "    <th>3.824987</th>\n",
       "    <th>3.511759</th>\n",
       "    <th>0.335733</th>\n",
       "  </tr>\n",
       "  <tr>\n",
       "    <th>5</th>\n",
       "    <th>3.738140</th>\n",
       "    <th>3.469602</th>\n",
       "    <th>0.340410</th>\n",
       "  </tr>\n",
       "  <tr>\n",
       "    <th>6</th>\n",
       "    <th>3.644721</th>\n",
       "    <th>3.444941</th>\n",
       "    <th>0.343569</th>\n",
       "  </tr>\n",
       "  <tr>\n",
       "    <th>7</th>\n",
       "    <th>3.566956</th>\n",
       "    <th>3.433072</th>\n",
       "    <th>0.344962</th>\n",
       "  </tr>\n",
       "  <tr>\n",
       "    <th>8</th>\n",
       "    <th>3.473696</th>\n",
       "    <th>3.412730</th>\n",
       "    <th>0.346273</th>\n",
       "  </tr>\n",
       "  <tr>\n",
       "    <th>9</th>\n",
       "    <th>3.381238</th>\n",
       "    <th>3.408101</th>\n",
       "    <th>0.349310</th>\n",
       "  </tr>\n",
       "  <tr>\n",
       "    <th>10</th>\n",
       "    <th>3.294344</th>\n",
       "    <th>3.406542</th>\n",
       "    <th>0.348407</th>\n",
       "  </tr>\n",
       "  <tr>\n",
       "    <th>11</th>\n",
       "    <th>3.202073</th>\n",
       "    <th>3.409096</th>\n",
       "    <th>0.348972</th>\n",
       "  </tr>\n",
       "  <tr>\n",
       "    <th>12</th>\n",
       "    <th>3.114181</th>\n",
       "    <th>3.418097</th>\n",
       "    <th>0.348082</th>\n",
       "  </tr>\n",
       "  <tr>\n",
       "    <th>13</th>\n",
       "    <th>3.044786</th>\n",
       "    <th>3.427698</th>\n",
       "    <th>0.347075</th>\n",
       "  </tr>\n",
       "  <tr>\n",
       "    <th>14</th>\n",
       "    <th>2.972315</th>\n",
       "    <th>3.426287</th>\n",
       "    <th>0.348828</th>\n",
       "  </tr>\n",
       "  <tr>\n",
       "    <th>15</th>\n",
       "    <th>2.898935</th>\n",
       "    <th>3.436848</th>\n",
       "    <th>0.349232</th>\n",
       "  </tr>\n",
       "  <tr>\n",
       "    <th>16</th>\n",
       "    <th>2.835859</th>\n",
       "    <th>3.442136</th>\n",
       "    <th>0.349268</th>\n",
       "  </tr>\n",
       "  <tr>\n",
       "    <th>17</th>\n",
       "    <th>2.783899</th>\n",
       "    <th>3.446350</th>\n",
       "    <th>0.348414</th>\n",
       "  </tr>\n",
       "  <tr>\n",
       "    <th>18</th>\n",
       "    <th>2.743483</th>\n",
       "    <th>3.444138</th>\n",
       "    <th>0.348700</th>\n",
       "  </tr>\n",
       "  <tr>\n",
       "    <th>19</th>\n",
       "    <th>2.713395</th>\n",
       "    <th>3.448573</th>\n",
       "    <th>0.349258</th>\n",
       "  </tr>\n",
       "  <tr>\n",
       "    <th>20</th>\n",
       "    <th>2.685540</th>\n",
       "    <th>3.447481</th>\n",
       "    <th>0.349143</th>\n",
       "  </tr>\n",
       "</table>\n"
      ],
      "text/plain": [
       "<IPython.core.display.HTML object>"
      ]
     },
     "metadata": {},
     "output_type": "display_data"
    },
    {
     "data": {
      "image/png": "[encoded data removed]",
      "text/plain": [
       "<Figure size 432x288 with 1 Axes>"
      ]
     },
     "metadata": {},
     "output_type": "display_data"
    }
   ],
   "source": [
    "t = test_hyper_param('data-lm-eval-zen', 64, 1e-2, 3, 1e-3, 20, 0.6)"
   ]
  },
  {
   "cell_type": "markdown",
   "metadata": {},
   "source": [
    "# Training the model"
   ]
  },
  {
   "cell_type": "markdown",
   "metadata": {},
   "source": [
    "Because the task is text generation, once we have selected the hyperpameters, there is no need of validation set. It is better to use all the data for the final training"
   ]
  },
  {
   "cell_type": "code",
   "execution_count": 43,
   "metadata": {
    "ExecuteTime": {
     "end_time": "2019-02-05T14:26:26.260110Z",
     "start_time": "2019-02-05T14:26:25.307860Z"
    }
   },
   "outputs": [],
   "source": [
    "data_lm = (TextList.from_df(df, PATH, processor=[TokenizeProcessor(), NumericalizeProcessor(max_vocab=60000, min_freq=1)])\n",
    "            .random_split_by_pct(0.01)\n",
    "            .label_for_lm()           \n",
    "            .databunch(bs=64))"
   ]
  },
  {
   "cell_type": "code",
   "execution_count": 44,
   "metadata": {
    "ExecuteTime": {
     "end_time": "2019-02-05T14:26:27.914232Z",
     "start_time": "2019-02-05T14:26:27.868951Z"
    }
   },
   "outputs": [],
   "source": [
    "data_lm.save('data-lm-train-zen')"
   ]
  },
  {
   "cell_type": "markdown",
   "metadata": {},
   "source": [
    "Note that accuracy and valid_loss are meaningless because we have a validation set which is too small (1%)"
   ]
  },
  {
   "cell_type": "code",
   "execution_count": 45,
   "metadata": {
    "ExecuteTime": {
     "end_time": "2019-02-05T14:27:21.613444Z",
     "start_time": "2019-02-05T14:26:40.385576Z"
    }
   },
   "outputs": [
    {
     "data": {
      "text/html": [
       "Total time: 00:04 <p><table style='width:300px; margin-bottom:10px'>\n",
       "  <tr>\n",
       "    <th>epoch</th>\n",
       "    <th>train_loss</th>\n",
       "    <th>valid_loss</th>\n",
       "    <th>accuracy</th>\n",
       "  </tr>\n",
       "  <tr>\n",
       "    <th>1</th>\n",
       "    <th>5.269088</th>\n",
       "    <th>5.025199</th>\n",
       "    <th>0.190341</th>\n",
       "  </tr>\n",
       "  <tr>\n",
       "    <th>2</th>\n",
       "    <th>4.793622</th>\n",
       "    <th>4.391912</th>\n",
       "    <th>0.218750</th>\n",
       "  </tr>\n",
       "  <tr>\n",
       "    <th>3</th>\n",
       "    <th>4.473637</th>\n",
       "    <th>4.295146</th>\n",
       "    <th>0.218750</th>\n",
       "  </tr>\n",
       "</table>\n"
      ],
      "text/plain": [
       "<IPython.core.display.HTML object>"
      ]
     },
     "metadata": {},
     "output_type": "display_data"
    },
    {
     "data": {
      "text/html": [
       "Total time: 00:36 <p><table style='width:300px; margin-bottom:10px'>\n",
       "  <tr>\n",
       "    <th>epoch</th>\n",
       "    <th>train_loss</th>\n",
       "    <th>valid_loss</th>\n",
       "    <th>accuracy</th>\n",
       "  </tr>\n",
       "  <tr>\n",
       "    <th>1</th>\n",
       "    <th>4.002242</th>\n",
       "    <th>4.133675</th>\n",
       "    <th>0.242898</th>\n",
       "  </tr>\n",
       "  <tr>\n",
       "    <th>2</th>\n",
       "    <th>3.893540</th>\n",
       "    <th>4.025743</th>\n",
       "    <th>0.247159</th>\n",
       "  </tr>\n",
       "  <tr>\n",
       "    <th>3</th>\n",
       "    <th>3.815819</th>\n",
       "    <th>3.909427</th>\n",
       "    <th>0.265625</th>\n",
       "  </tr>\n",
       "  <tr>\n",
       "    <th>4</th>\n",
       "    <th>3.736700</th>\n",
       "    <th>3.936158</th>\n",
       "    <th>0.275568</th>\n",
       "  </tr>\n",
       "  <tr>\n",
       "    <th>5</th>\n",
       "    <th>3.652338</th>\n",
       "    <th>3.881320</th>\n",
       "    <th>0.271307</th>\n",
       "  </tr>\n",
       "  <tr>\n",
       "    <th>6</th>\n",
       "    <th>3.564542</th>\n",
       "    <th>3.851117</th>\n",
       "    <th>0.262784</th>\n",
       "  </tr>\n",
       "  <tr>\n",
       "    <th>7</th>\n",
       "    <th>3.482398</th>\n",
       "    <th>3.889467</th>\n",
       "    <th>0.251420</th>\n",
       "  </tr>\n",
       "  <tr>\n",
       "    <th>8</th>\n",
       "    <th>3.392655</th>\n",
       "    <th>3.857884</th>\n",
       "    <th>0.271307</th>\n",
       "  </tr>\n",
       "  <tr>\n",
       "    <th>9</th>\n",
       "    <th>3.301254</th>\n",
       "    <th>3.927489</th>\n",
       "    <th>0.267045</th>\n",
       "  </tr>\n",
       "  <tr>\n",
       "    <th>10</th>\n",
       "    <th>3.197652</th>\n",
       "    <th>3.971091</th>\n",
       "    <th>0.242898</th>\n",
       "  </tr>\n",
       "  <tr>\n",
       "    <th>11</th>\n",
       "    <th>3.103190</th>\n",
       "    <th>3.972101</th>\n",
       "    <th>0.242898</th>\n",
       "  </tr>\n",
       "  <tr>\n",
       "    <th>12</th>\n",
       "    <th>3.013103</th>\n",
       "    <th>3.981464</th>\n",
       "    <th>0.254261</th>\n",
       "  </tr>\n",
       "  <tr>\n",
       "    <th>13</th>\n",
       "    <th>2.929800</th>\n",
       "    <th>3.988330</th>\n",
       "    <th>0.262784</th>\n",
       "  </tr>\n",
       "  <tr>\n",
       "    <th>14</th>\n",
       "    <th>2.855572</th>\n",
       "    <th>3.957787</th>\n",
       "    <th>0.274148</th>\n",
       "  </tr>\n",
       "  <tr>\n",
       "    <th>15</th>\n",
       "    <th>2.782026</th>\n",
       "    <th>4.066276</th>\n",
       "    <th>0.264205</th>\n",
       "  </tr>\n",
       "  <tr>\n",
       "    <th>16</th>\n",
       "    <th>2.727331</th>\n",
       "    <th>4.034762</th>\n",
       "    <th>0.257102</th>\n",
       "  </tr>\n",
       "  <tr>\n",
       "    <th>17</th>\n",
       "    <th>2.683408</th>\n",
       "    <th>4.013828</th>\n",
       "    <th>0.268466</th>\n",
       "  </tr>\n",
       "  <tr>\n",
       "    <th>18</th>\n",
       "    <th>2.645881</th>\n",
       "    <th>4.028463</th>\n",
       "    <th>0.258523</th>\n",
       "  </tr>\n",
       "  <tr>\n",
       "    <th>19</th>\n",
       "    <th>2.617181</th>\n",
       "    <th>4.015470</th>\n",
       "    <th>0.264205</th>\n",
       "  </tr>\n",
       "  <tr>\n",
       "    <th>20</th>\n",
       "    <th>2.593580</th>\n",
       "    <th>4.025832</th>\n",
       "    <th>0.258523</th>\n",
       "  </tr>\n",
       "</table>\n"
      ],
      "text/plain": [
       "<IPython.core.display.HTML object>"
      ]
     },
     "metadata": {},
     "output_type": "display_data"
    },
    {
     "data": {
      "image/png": "[encoded data removed]",
      "text/plain": [
       "<Figure size 432x288 with 1 Axes>"
      ]
     },
     "metadata": {},
     "output_type": "display_data"
    }
   ],
   "source": [
    "t = test_hyper_param('data-lm-train-zen', 64, 1e-2, 3, 1e-3, 20, 0.6)"
   ]
  },
  {
   "cell_type": "code",
   "execution_count": 46,
   "metadata": {
    "ExecuteTime": {
     "end_time": "2019-02-05T14:28:22.129810Z",
     "start_time": "2019-02-05T14:28:21.848511Z"
    }
   },
   "outputs": [],
   "source": [
    "t.save('model-deepguru-dataset1')"
   ]
  },
  {
   "cell_type": "code",
   "execution_count": 48,
   "metadata": {
    "ExecuteTime": {
     "end_time": "2019-02-05T14:35:09.974332Z",
     "start_time": "2019-02-05T14:35:09.495506Z"
    }
   },
   "outputs": [],
   "source": [
    "t.export(fname='full-model-deepguru-dataset1')"
   ]
  }
 ],
 "metadata": {
  "kernelspec": {
   "display_name": "Python 3",
   "language": "python",
   "name": "python3"
  },
  "language_info": {
   "codemirror_mode": {
    "name": "ipython",
    "version": 3
   },
   "file_extension": ".py",
   "mimetype": "text/x-python",
   "name": "python",
   "nbconvert_exporter": "python",
   "pygments_lexer": "ipython3",
   "version": "3.6.5"
  }
 },
 "nbformat": 4,
 "nbformat_minor": 2
}
